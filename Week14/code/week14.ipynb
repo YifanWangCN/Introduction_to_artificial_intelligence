{
  "cells": [
    {
      "cell_type": "markdown",
      "metadata": {
        "id": "hnUHJ44Tf1bZ"
      },
      "source": [
        "# Introduction\n",
        "\n",
        "This worksheet covers the three supervised learning algorithms we looked at in week 14: k-nearest neighbours, linear regression, and the naive Bayes classifier. Similar to last week, you will do some work implementing your own versions of these algorithms, to ensure that you understand the details of them. You will also compare them with the implementations in scikit-learn to test your implementations."
      ]
    },
    {
      "cell_type": "markdown",
      "metadata": {
        "id": "Xw8NhyyMf1ba"
      },
      "source": [
        "# Preliminaries\n",
        "Import key packages: NumPy, matplotlib, and any others that you prefer to work with. In general, when writing code, you will put all your import statements at the top. However, for these worksheets we will import as we go along."
      ]
    },
    {
      "cell_type": "code",
      "execution_count": null,
      "metadata": {
        "id": "V8DRpIsPf1bb"
      },
      "outputs": [],
      "source": [
        "#TODO: import NumPy and matplotlib here\n",
        "import numpy as np\n",
        "import matplotlib.pyplot as plt"
      ]
    },
    {
      "cell_type": "markdown",
      "metadata": {
        "id": "qNzG1vAqf1bc"
      },
      "source": [
        "# Question 1: k-nearest neighbours classification\n",
        "In this question we will use the k-nearest neighbours algorithm to make predictions on the breast cancer Wisconsin dataset. This is a classification problem where the aim is to classify instances as either being malignant or benign based on the following 10 features:\n",
        "1. radius (mean of distances from center to points on the perimeter)\n",
        "2. texture (standard deviation of gray-scale values)\n",
        "3. perimeter\n",
        "4. area\n",
        "5. smoothness (local variation in radius lengths)\n",
        "6. compactness (perimeter squared/ area −1)\n",
        "7. concavity (severity of concave portions of the contour)\n",
        "8. concave points (number of concave portions of the contour)\n",
        "9. symmetry\n",
        "10. fractal dimension (‘coastline approximation’ −1)\n",
        "\n",
        "In this question you will (a) download the dataset from sklearn and store the data and targets in suitable variables, (b) separate your data into a training and test split, (c) write your own function to implement k-nearest neighbours, (d) check your implementation with that of sklearn. Wethen go on to (e) select the most appropriate value of $k$ using cross-validation."
      ]
    },
    {
      "cell_type": "markdown",
      "metadata": {
        "id": "61Y5p_TSf1bc"
      },
      "source": [
        "## Part (a)\n",
        "Import the package `datasets` from `sklearn` and then load the breast cancer dataset (function is `load_breast_cancer()`). Save the data into a variable `X` and the targets into a variable `Y`. \n",
        "Take a look at the data in `X`. How many datapoints are there? How many features does each datapoint have? (Hint: use `np.shape`).\n",
        "Take a look at the targets. Is this suitable for a classification algorithm or a regression algorithm?"
      ]
    },
    {
      "cell_type": "code",
      "execution_count": null,
      "metadata": {
        "colab": {
          "base_uri": "https://localhost:8080/"
        },
        "id": "EFuc7yPyf1bc",
        "outputId": "49c5e697-1a33-4d00-ec73-9094c98c8c3d"
      },
      "outputs": [
        {
          "name": "stdout",
          "output_type": "stream",
          "text": [
            "(569, 30)\n",
            "['mean radius' 'mean texture' 'mean perimeter' 'mean area'\n",
            " 'mean smoothness' 'mean compactness' 'mean concavity'\n",
            " 'mean concave points' 'mean symmetry' 'mean fractal dimension'\n",
            " 'radius error' 'texture error' 'perimeter error' 'area error'\n",
            " 'smoothness error' 'compactness error' 'concavity error'\n",
            " 'concave points error' 'symmetry error' 'fractal dimension error'\n",
            " 'worst radius' 'worst texture' 'worst perimeter' 'worst area'\n",
            " 'worst smoothness' 'worst compactness' 'worst concavity'\n",
            " 'worst concave points' 'worst symmetry' 'worst fractal dimension']\n"
          ]
        }
      ],
      "source": [
        "# Import suitable packages, load the dataset, and save data and targets into variables X and Y\n",
        "# import packages\n",
        "from sklearn import datasets\n",
        "\n",
        "# load dataset and save data and targets into X and Y\n",
        "cancer = datasets.load_breast_cancer()\n",
        "X = cancer.data\n",
        "Y = cancer.target\n",
        "\n",
        "#该数据集一共有569个样本,30个特征\n",
        "print(X.shape)\n",
        "print(cancer.feature_names)"
      ]
    },
    {
      "cell_type": "markdown",
      "metadata": {
        "id": "3AgxE51Tf1bd"
      },
      "source": [
        "## Part (b)\n",
        "\n",
        "Use the function `train_test_split` from `sklearn.model_selection` to split your data into a training set and a held-out test set. Use a test set that is 0.2 of the original dataset. Set the parameter `random_state` to 10 to help with replication."
      ]
    },
    {
      "cell_type": "code",
      "execution_count": null,
      "metadata": {
        "colab": {
          "base_uri": "https://localhost:8080/"
        },
        "id": "7OTGcaOxf1bd",
        "outputId": "d259caec-a8e5-42d1-e2b0-6de29f625aaf"
      },
      "outputs": [
        {
          "name": "stdout",
          "output_type": "stream",
          "text": [
            "(114, 30)\n"
          ]
        }
      ],
      "source": [
        "# Import the package train_test_split from sklearn.model_selection.\n",
        "from sklearn.model_selection import train_test_split\n",
        "# Split the dataset into Xtr, Xtest, Ytr, Ytest. Xtest and Ytest will form your held-out\n",
        "# test set. You will later split Xtr and Ytr into training and validation sets.\n",
        "Xtr, Xtest, Ytr, Ytest = train_test_split(X, Y, test_size=0.2, random_state=10)\n",
        "print(Xtest.shape)"
      ]
    },
    {
      "cell_type": "markdown",
      "metadata": {
        "id": "MAe0R-gnf1be"
      },
      "source": [
        "## Part (c) \n",
        "Recall from the lecture that the k-nearest neighbours algorithm runs as follows:\n",
        "\n",
        "Training step: Simply store the dataset\n",
        "\n",
        "Prediction step: Given a datapoint $\\vec{x}$:\n",
        " - **Find** the k datapoints $(\\vec{x}_i, y_i)$ where the distance from $\\vec{x}$ to $\\vec{x}_i$ is smallest\n",
        " - **Return** the majority class from the $y_i$\n",
        "   \n",
        " \n",
        "What, if anything, do you need to do for the training step?\n",
        "\n",
        "Write function(s) to implement the k-nearest neighbours prediction step. You may wish to break the procedure down into two functions `predict_datapoint` that makes a prediction for one datapoint and `predict_data` that loops over the whole dataset.\n",
        "\n",
        "To select the majority class from the nearest neighbours, you can use the function `scipy.stats.mode()`\n"
      ]
    },
    {
      "cell_type": "code",
      "execution_count": null,
      "metadata": {
        "colab": {
          "base_uri": "https://localhost:8080/"
        },
        "id": "eP_nz0RHf1be",
        "outputId": "825892c7-bc21-4d14-e81a-5edce986d6f7"
      },
      "outputs": [
        {
          "name": "stdout",
          "output_type": "stream",
          "text": [
            "[0, 1, 1, 0, 0, 1, 1, 0, 1, 0, 1, 1, 0, 0, 1, 1, 1, 1, 0, 1, 1, 0, 1, 0, 1, 0, 1, 1, 0, 1, 1, 0, 1, 1, 1, 1, 0, 1, 0, 1, 1, 1, 0, 1, 1, 0, 1, 1, 1, 1, 1, 0, 0, 1, 1, 1, 1, 1, 0, 1, 1, 0, 1, 1, 1, 1, 1, 1, 1, 1, 0, 1, 1, 1, 0, 1, 0, 1, 0, 0, 1, 1, 1, 1, 1, 1, 1, 1, 1, 0, 1, 0, 0, 1, 1, 1, 0, 0, 1, 1, 0, 0, 1, 1, 1, 1, 1, 0, 1, 0, 1, 1, 0, 0, 1, 0, 0, 1, 1, 0, 0, 1, 1, 1, 1, 1, 1, 0, 1, 1, 0, 0, 0, 0, 0, 1, 1, 1, 1, 1, 1, 0, 1, 1, 1, 1, 1, 0, 1, 0, 1, 1, 0, 1, 0, 0, 1, 0, 0, 0, 1, 0, 1, 0, 1, 0, 0, 1, 1, 1, 1, 1, 1, 1, 1, 1, 0, 1, 1, 1, 1, 1, 1, 1, 0, 1, 1, 1, 0, 1, 1, 1, 1, 0, 1, 1, 1, 1, 0, 1, 1, 0, 0, 1, 1, 0, 1, 0, 1, 1, 1, 1, 1, 1, 1, 1, 1, 0, 0, 1, 1, 1, 1, 1, 1, 1, 1, 1, 1, 0, 0, 0, 1, 1, 1, 0, 1, 1, 0, 1, 1, 1, 1, 0, 1, 0, 1, 0, 0, 1, 0, 1, 0, 1, 0, 0, 1, 0, 1, 1, 0, 1, 0, 1, 0, 0, 0, 1, 1, 0, 0, 0, 0, 0, 1, 0, 1, 1, 1, 1, 0, 1, 0, 1, 1, 1, 0, 1, 1, 0, 0, 0, 1, 0, 0, 1, 0, 1, 1, 1, 0, 1, 0, 1, 0, 0, 0, 1, 1, 1, 1, 1, 0, 1, 1, 1, 0, 1, 0, 1, 1, 0, 1, 1, 1, 0, 0, 1, 1, 0, 1, 1, 1, 1, 1, 1, 0, 1, 1, 1, 1, 0, 0, 1, 0, 0, 0, 0, 1, 0, 1, 1, 1, 0, 1, 1, 0, 1, 1, 0, 1, 1, 0, 1, 1, 1, 0, 1, 1, 0, 1, 0, 1, 1, 0, 0, 1, 0, 1, 1, 0, 1, 1, 1, 1, 0, 1, 1, 0, 1, 0, 1, 1, 0, 1, 1, 1, 0, 1, 1, 1, 0, 0, 1, 0, 1, 1, 1, 1, 1, 1, 0, 0, 1, 1, 1, 1, 1, 1, 1, 0, 0, 1, 1, 1, 1, 0, 1, 0, 1, 1, 0, 0, 1, 0, 1, 0, 1, 1, 1, 1, 1, 0, 1, 0, 0, 0, 1, 0, 1, 0, 1, 1, 1, 0]\n"
          ]
        }
      ],
      "source": [
        "from numpy.ma.core import argsort\n",
        "from scipy.stats import mode\n",
        "# Write function(s) to implement the prediction step in k-nearest neighbours. \n",
        "# You can use the suggested structure below if desired.\n",
        "\n",
        "# predict_datapoint takes 4 arguments. pt (type: numpy array) is the datapoint we are making a prediction about, \n",
        "# Xtrain and Ytrain (numpy arrays) are training data and targets, k (int) is the number of neighbours.\n",
        "# Returns an integer which is the predicted class for pt\n",
        "def predict_datapoint(pt, Xtrain, Ytrain, k):\n",
        "    distances = []\n",
        "    classes = []\n",
        "    length = len(Xtrain)\n",
        "    # For each datapoint in Xtrain, calculate the distance to pt and store\n",
        "    for i in range(length):\n",
        "      distance = np.sum((pt-Xtrain[i])**2)\n",
        "      distances.append(distance)\n",
        "    # Sort the list of distances (hint: use np.argsort)\n",
        "    sort = np.argsort(distances)\n",
        "    # print(distances)\n",
        "    # print(sort)\n",
        "    # obtain the classes (in Ytrain) of the datapoints with the smallest distance to pt\n",
        "    for j in range(k):\n",
        "      classes.append(Ytrain[sort[j]])\n",
        "    # return the mode of the classes\n",
        "    return mode(classes)[0][0]\n",
        "\n",
        "\n",
        "\n",
        "# predict_data takes 4 arguments: the test data Xtst (numpy array), the training data Xtrain (numpy array),\n",
        "# the training targets Ytrain (numpy array), and the number of neighbours k (int, default = 3). \n",
        "# Returns: predictions (array of int) for each point in Xtst\n",
        "def predict_data(Xtst, Xtrain, Ytrain, k=3):\n",
        "    #Loop over the datapoints in Xtst and store the prediction for that datapoint\n",
        "    length = len(Xtst)\n",
        "    predicts = []\n",
        "    for i in range(length):\n",
        "      predicts.append(predict_datapoint(Xtst[i], Xtrain, Ytrain, k))\n",
        "    # Return the predictions\n",
        "    return predicts\n",
        "\n",
        "# Predict values for the TRAINING data (we will not look at the test set yet)\n",
        "Predictions = predict_data(Xtr, Xtr, Ytr, 3)\n",
        "print(Predictions)"
      ]
    },
    {
      "cell_type": "markdown",
      "metadata": {
        "id": "r4_kg_2bf1be"
      },
      "source": [
        "## Part (d)\n",
        "Now we can compare your implementation with the sklearn implementation (you should get the same results). Firstly import the classfifier `KNeighborsClassifier` from `sklearn.neighbors`. Instantiate the classifier with the same number of neighbours that you used previously. Fit the model and make a prediction on the test set."
      ]
    },
    {
      "cell_type": "code",
      "execution_count": null,
      "metadata": {
        "colab": {
          "base_uri": "https://localhost:8080/"
        },
        "id": "e-LcjSU2f1bf",
        "outputId": "461b750c-04f7-485a-fccf-2ec4bb959cfd"
      },
      "outputs": [
        {
          "name": "stdout",
          "output_type": "stream",
          "text": [
            "[0 1 1 0 0 1 1 0 1 0 1 1 0 0 1 1 1 1 0 1 1 0 1 0 1 0 1 1 0 1 1 0 1 1 1 1 0\n",
            " 1 0 1 1 1 0 1 1 0 1 1 1 1 1 0 0 1 1 1 1 1 0 1 1 0 1 1 1 1 1 1 1 1 0 1 1 1\n",
            " 0 1 0 1 0 0 1 1 1 1 1 1 1 1 1 0 1 0 0 1 1 1 0 0 1 1 0 0 1 1 1 1 1 0 1 0 1\n",
            " 1 0 0 1 0 0 1 1 0 0 1 1 1 1 1 1 0 1 1 0 0 0 0 0 1 1 1 1 1 1 0 1 1 1 1 1 0\n",
            " 1 0 1 1 0 1 0 0 1 0 0 0 1 0 1 0 1 0 0 1 1 1 1 1 1 1 1 1 0 1 1 1 1 1 1 1 0\n",
            " 1 1 1 0 1 1 1 1 0 1 1 1 1 0 1 1 0 0 1 1 0 1 0 1 1 1 1 1 1 1 1 1 0 0 1 1 1\n",
            " 1 1 1 1 1 1 1 0 0 0 1 1 1 0 1 1 0 1 1 1 1 0 1 0 1 0 0 1 0 1 0 1 0 0 1 0 1\n",
            " 1 0 1 0 1 0 0 0 1 1 0 0 0 0 0 1 0 1 1 1 1 0 1 0 1 1 1 0 1 1 0 0 0 1 0 0 1\n",
            " 0 1 1 1 0 1 0 1 0 0 0 1 1 1 1 1 0 1 1 1 0 1 0 1 1 0 1 1 1 0 0 1 1 0 1 1 1\n",
            " 1 1 1 0 1 1 1 1 0 0 1 0 0 0 0 1 0 1 1 1 0 1 1 0 1 1 0 1 1 0 1 1 1 0 1 1 0\n",
            " 1 0 1 1 0 0 1 0 1 1 0 1 1 1 1 0 1 1 0 1 0 1 1 0 1 1 1 0 1 1 1 0 0 1 0 1 1\n",
            " 1 1 1 1 0 0 1 1 1 1 1 1 1 0 0 1 1 1 1 0 1 0 1 1 0 0 1 0 1 0 1 1 1 1 1 0 1\n",
            " 0 0 0 1 0 1 0 1 1 1 0]\n"
          ]
        }
      ],
      "source": [
        "# Import KNeighborClassifier\n",
        "from sklearn.neighbors import KNeighborsClassifier\n",
        "\n",
        "# Instantiate the classifier with 3 neighbors\n",
        "KNN = KNeighborsClassifier(n_neighbors=3)  \n",
        "\n",
        "#Fit the classifier on the training data\n",
        "KNN.fit(Xtr,Ytr)\n",
        "\n",
        "#Make a prediction on the training data\n",
        "KNN_Pre = KNN.predict(Xtr)\n",
        "print(KNN_Pre)"
      ]
    },
    {
      "cell_type": "markdown",
      "metadata": {
        "id": "JqH58iVhf1bf"
      },
      "source": [
        "Check whether your predictions are the same as the predictions from `KNeighborsClassifier`."
      ]
    },
    {
      "cell_type": "code",
      "execution_count": null,
      "metadata": {
        "colab": {
          "base_uri": "https://localhost:8080/"
        },
        "id": "aISPz-N9f1bf",
        "outputId": "3da34ea3-8450-4050-900d-31557543bb06"
      },
      "outputs": [
        {
          "name": "stdout",
          "output_type": "stream",
          "text": [
            "My predictions are the same as the predictions from KNeighborsClassifier\n"
          ]
        }
      ],
      "source": [
        "#首先要将自己写的方法最终输出的list转化为array\n",
        "DIYKNN_Pre = np.array(Predictions)\n",
        "\n",
        "check = (KNN_Pre==DIYKNN_Pre).all()\n",
        "if check==True:\n",
        "  print(\"My predictions are the same as the predictions from KNeighborsClassifier\")"
      ]
    },
    {
      "cell_type": "markdown",
      "metadata": {
        "id": "Ru0rbuDIf1bf"
      },
      "source": [
        "Use the built in metrics in sklearn to calculate the accuracy of your classifier on the TRAINING set."
      ]
    },
    {
      "cell_type": "code",
      "execution_count": null,
      "metadata": {
        "colab": {
          "base_uri": "https://localhost:8080/"
        },
        "id": "Kw6iyCShf1bf",
        "outputId": "67a02cd7-7bd4-4cc0-e245-a1ce864493d7"
      },
      "outputs": [
        {
          "name": "stdout",
          "output_type": "stream",
          "text": [
            "0.9560439560439561\n"
          ]
        }
      ],
      "source": [
        "from sklearn.metrics import accuracy_score\n",
        "\n",
        "print(accuracy_score(Ytr, KNN_Pre)) "
      ]
    },
    {
      "cell_type": "markdown",
      "metadata": {
        "id": "raegmgkvf1bg"
      },
      "source": [
        "## Part(e) Using cross-validation for model selection\n",
        "k-nearest neighbours has the parameter $k$, and we need to decide which is the best value of $k$ to use. Last week we talked about using cross-validation for model selection.\n",
        "\n",
        "We will use cross-validation on our training set to select the best value of $k$, in a range from 1 to 30.\n",
        "\n",
        "NB: use sklearn's version of k-NN rather than yours, since unless you have optimised yours it is probably too slow.\n",
        "\n",
        "Since we are using cross-validation for model selection we will cross-validate on the training set only.\n",
        "\n",
        "Procedure:\n",
        "        \n",
        " 1. Import `KFold` from `sklearn.model_selection`  \n",
        " 1. Instantiate `KFold` with 5 splits. Set the parameter `random_state` to help you reproduce your results if needed.\n",
        " 1. Set a variable `max_k` to 30  \n",
        " 1. Inititalise two variables to store the training accuracies and validation accuracies (these need to store max_k\\*5 accuracies)  \n",
        " 1. Loop over the values of k:  \n",
        "    1. Instantiate a k-nn classifier (Use the sklearn classifier) with the current value of k  \n",
        "    1. Loop over the cross-validation splits:  \n",
        "       1. fit the model on the current split of data  \n",
        "       1. make predictions  \n",
        "       1. calculate training and validation accuracy and store  \n",
        " 6. Calculate the mean training and validation accuracies across splits for each $k$\n",
        "\n",
        "Plot the mean training and validation accuracies. Which value of $k$ will you use? Why?\n",
        "    "
      ]
    },
    {
      "cell_type": "code",
      "execution_count": null,
      "metadata": {
        "id": "Oq_bdzI1f1bg"
      },
      "outputs": [],
      "source": [
        "# Use cross-validation to select the value of k\n",
        "# You can use the structure below if desired\n",
        "\n",
        "# Import KFold from sklearn.model_selection\n",
        "from sklearn.model_selection import KFold\n",
        "\n",
        "# Instantiate KFold with 5 splits. \n",
        "# Set the parameter random_state to help you reproduce your results if needed.\n",
        "##TODO##\n",
        "KF = KFold(n_splits=5, shuffle=True, random_state=10)\n",
        "# Set a variable max_k to 30 \n",
        "max_k = 30\n",
        "\n",
        "# Inititalise two variables to store the \n",
        "# training accuracies and validation accuracies \n",
        "# (these need to store max_k*5 accuracies) \n",
        "validation_accuracies =[]\n",
        "\n",
        "# Loop over the values of k: \n",
        "for k in range(max_k):\n",
        "    current_score = 0\n",
        "    # Instantiate a k-nn classifier (Use the sklearn classifier)\n",
        "    # with the current value of k \n",
        "    # Loop over the cross-validation splits: \n",
        "    for train_index,valid_index in KF.split(X):\n",
        "\n",
        "        CV_KNN = KNeighborsClassifier(n_neighbors=(k+1))\n",
        " \n",
        "        # fit the model on the current split of data \n",
        "        CV_KNN.fit(X[train_index],Y[train_index])\n",
        "        current_score = current_score + CV_KNN.score(X[valid_index],Y[valid_index])\n",
        "        \n",
        "# Calculate the mean training and validation accuracies across splits for each 𝑘\n",
        "    avg_score = current_score/5\n",
        "    validation_accuracies.append(avg_score)"
      ]
    },
    {
      "cell_type": "code",
      "execution_count": null,
      "metadata": {
        "colab": {
          "base_uri": "https://localhost:8080/",
          "height": 283
        },
        "id": "T29A16j7f1bg",
        "outputId": "000d2c85-77f3-472f-f83c-1b259f5da462"
      },
      "outputs": [
        {
          "data": {
            "image/png": "[encoded data removed]",
            "text/plain": [
              "<Figure size 432x288 with 1 Axes>"
            ]
          },
          "metadata": {
            "needs_background": "light"
          },
          "output_type": "display_data"
        }
      ],
      "source": [
        "# Plot the mean training and validation accuracies against each value of k. Which value of 𝑘 will you use? Why?\n",
        "K = np.arange(1,31,1)\n",
        "plt.plot(K, validation_accuracies, label=\"K selection by cross validation\")\n",
        "plt.xlabel(\"K value\")\n",
        "plt.ylabel(\"val_accuracy\")\n",
        "plt.show()"
      ]
    },
    {
      "cell_type": "markdown",
      "metadata": {
        "id": "6kEhXcTJf1bg"
      },
      "source": [
        "# The naive Bayes classifier\n",
        "\n",
        "Recall from the lecture notes that the naive Bayes classifier works as follows. We are trying to approximate an unknown function $$f:\\Omega \\rightarrow \\mathcal{O}$$\n",
        "where $\\Omega$ is our feature space and our output space $\\mathcal{O} = \\{c_1, c_2, ... c_K\\}$ is a finite set of classes.\n",
        "\n",
        "The naive Bayes classifier does this by building a model that assigns the class label $\\hat{y} = c_k$ as follows:\n",
        "$$\n",
        "\\hat{y} = \\text{argmax}_k p(c_k)\\prod_i p(x_i| c_k)\n",
        "$$\n",
        "i.e., the $k$ that maximises this quantity.\n",
        "\n",
        "In practice, multiplying all the $p(x_i| c_k)$ together is going to give some very small values. Therefore, we can take the log to make it easier to compute:\n",
        "\\begin{align}\n",
        "\\hat{y} &= \\text{argmax}_k p(c_k)\\prod_i p(x_i| c_k)= \\text{argmax}_k log(p(c_k)\\prod_i p(x_i| c_k))\\\\\n",
        "&=\\text{argmax}_k log(p(c_k)) + \\sum_i log(p(x_i|c_k))\n",
        "\\end{align}\n",
        "\n",
        "If we choose that $p(x_i|c_k)$ is given by a normal distribution with mean $\\mu_k$ and variance $\\sigma_k^2$, then we obtain the following expression:\n",
        "\n",
        "\\begin{align}\n",
        "\\hat{y} &=\\text{argmax}_k \\log(p(c_k)) + \\sum_i \\log(p(x_i|c_k))\\\\\n",
        "&= \\text{argmax}_k \\log(p(c_k)) + \\sum_i \\log\\left(\\frac{1}{\\sigma_k\\sqrt{2\\pi}} exp\\left(\\frac{-(x-\\mu_k)^2}{2\\sigma_k}\\right)\\right)\\\\\n",
        "&= \\text{argmax}_k \\log(p(c_k)) - \\sum_i \\log\\left(\\sigma_k\\sqrt{2\\pi}\\right) - \\sum_i\\left(\\frac{(x-\\mu_k)^2}{2\\sigma_k}\\right) \\quad \\text{ log-likelihood}\n",
        "\\end{align}\n",
        "\n",
        "Expressing the values in terms of these sums means that they do not get so small, and it is less likely that there will be errors at the machine precision level.\n",
        "\n",
        "\n",
        "How do we implement this in practice? We assume that each probability $p(x_i| c_k)$ is given by some distribution, and then given a datapoint $\\vec{x}$, we plug the value into the equation for the distribution.\n",
        "\n",
        "In this question you will (a) implement your own version of the Gaussian naive Bayes classifier, (b) check your classifier against the implementation in sci-kit learn, (c) compare the accuracy of the naive Bayes classifier with the accuracy of the k-nearest neighbours classifier, and (d) run cross-validation to verify whether the kNN classfier or the Gaussian naive Bayes classifier performs better on this dataset.\n",
        "\n",
        "## Part (a) Implementing Gaussian naive Bayes\n",
        "For this question we will make the assumption that each feature is described by a normal (also called Gaussian) distribution. The procedure is as follows:\n",
        "1. Divide the training data by class\n",
        "2. Calculate mean and standard deviation per class and per feature\n",
        "4. For each datapoint in the validation set, calculate the log-likelihood for each class and for each feature (Hint: use the function `scipy.stats.norm.logpdf`)\n",
        "5. Combine these values together with the probability of the class according to the log-likelihood equation above\n",
        "6. Choose the class with the highest value\n"
      ]
    },
    {
      "cell_type": "code",
      "execution_count": null,
      "metadata": {
        "colab": {
          "base_uri": "https://localhost:8080/"
        },
        "id": "_l3jdjw7f1bg",
        "outputId": "b2c96048-1dd9-4886-f72a-b89892fe04a2"
      },
      "outputs": [
        {
          "name": "stdout",
          "output_type": "stream",
          "text": [
            "[0 1 1 0 1 0 1 1 0 0 1 1 0 1 0 0 1 1 1 0 0 0 1 1 0 0 1 0 1 1 1 1 0 1 1 1 1\n",
            " 1 1 1 1 1 1 0 1 0 0 0 0 0 1 1 0 1 1 0 0 1 1 1 0 1 0 0 1 1 1 1 1 0 1 1 1 1\n",
            " 1 0 1 1 0 0 1 1 0 1 1 1 1 0 1 1 1 1 0 1 1 1 0 1 0 1 0 0 1 1 1 1 0 0 1 1 1\n",
            " 1 0 0]\n"
          ]
        }
      ],
      "source": [
        "# Write your own implementation of naive Bayes applied to the breast cancer dataset.\n",
        "\n",
        "# If you wish you can follow the structure below\n",
        "from scipy.stats import norm\n",
        "import math\n",
        "\n",
        "#Separate the training set into classes, so you have one set of data for each class\n",
        "#首先求得 是癌症或者不是癌症的概率，即求得P(class)\n",
        "#为了求这个，先将训练集进行分类 即Ytr为0的分为一类，Ytr为1的分为一类\n",
        "index_cancer = []\n",
        "index_nocancer = []\n",
        "for i in range(len(Ytr)):\n",
        "  if Ytr[i]==1:\n",
        "    index_cancer.append(i)\n",
        "  else:\n",
        "    index_nocancer.append(i)\n",
        "\n",
        "Xtr_cancer = Xtr[index_cancer] #在这个训练集中一共有282个正样本\n",
        "# print(Xtr_cancer.shape) \n",
        "Xtr_nocancer = Xtr[index_nocancer] #在这个训练集中一共有173个负样本\n",
        "# print(Xtr_nocancer.shape)\n",
        "\n",
        "# Calculate the means and standard deviations for each class, for each feature. \n",
        "# There are 30 features in the dataset, so you should have a 30-dimensional \n",
        "# array of means for each class and a 30-dimensional array of standard deviations\n",
        "# for each class. Remember that you can take the average across rows or columns of \n",
        "# a matrix by specifying axis = 1 or axis = 0\n",
        "\n",
        "feature_mean_cancer = np.sum(Xtr_cancer,axis=0)/282\n",
        "feature_mean_nocancer = np.sum(Xtr_nocancer,axis=0)/173\n",
        "feature_std_cancer = np.std(Xtr_cancer,axis=0)\n",
        "feature_std_nocancer = np.std(Xtr_nocancer,axis=0)\n",
        "# print(feature_mean_nocancer.shape)\n",
        "\n",
        "# Calculate the prior probability p(c_i) for each class\n",
        "p_cancer = 282/455\n",
        "p_nocancer = 173/455\n",
        "\n",
        "# Calculate the log-likelihood of each class for each datapoint in the validation set\n",
        "# Hint: you can use the function scipy.stats.norm.logpdf to help with this\n",
        "like_hood_cancer = np.log(p_cancer) + np.sum(norm.logpdf(Xtest,loc=feature_mean_cancer,scale=feature_std_cancer),axis=1)\n",
        "like_hood_nocancer = np.log(p_nocancer) + np.sum(norm.logpdf(Xtest,loc=feature_mean_nocancer,scale=feature_std_nocancer),axis=1)\n",
        "\n",
        "# Your predicted class is 0 if class 0 has the highest log-likelihood, and 1 if class 1 \n",
        "arr = like_hood_cancer - like_hood_nocancer\n",
        "pre = np.int64(arr>0)\n",
        "print(pre)"
      ]
    },
    {
      "cell_type": "markdown",
      "metadata": {
        "id": "lcaomowDf1bh"
      },
      "source": [
        "## Part (b) Checking results\n",
        "We now compare our results with the sklearn implementation. "
      ]
    },
    {
      "cell_type": "code",
      "execution_count": null,
      "metadata": {
        "colab": {
          "base_uri": "https://localhost:8080/"
        },
        "id": "oA2g9yPIf1bh",
        "outputId": "a3dbc9dd-aeab-4cba-aec4-fce3097eb19d"
      },
      "outputs": [
        {
          "data": {
            "text/plain": [
              "array([0, 1, 1, 0, 1, 0, 1, 1, 0, 0, 1, 1, 0, 1, 0, 0, 1, 1, 1, 0, 0, 0,\n",
              "       1, 1, 0, 0, 1, 0, 1, 1, 1, 1, 0, 1, 1, 1, 1, 1, 1, 1, 1, 1, 1, 0,\n",
              "       1, 0, 0, 0, 0, 0, 1, 1, 0, 1, 1, 0, 0, 1, 1, 1, 0, 1, 0, 0, 1, 1,\n",
              "       1, 1, 1, 0, 1, 1, 1, 1, 1, 0, 1, 1, 0, 0, 1, 1, 0, 1, 1, 1, 1, 0,\n",
              "       1, 1, 1, 1, 0, 1, 1, 1, 0, 1, 0, 1, 0, 0, 1, 1, 1, 1, 0, 0, 1, 1,\n",
              "       1, 1, 0, 0])"
            ]
          },
          "execution_count": 10,
          "metadata": {},
          "output_type": "execute_result"
        }
      ],
      "source": [
        "##Import the classifier GaussianNB from sklearn.naive_bayes\n",
        "from sklearn.naive_bayes import GaussianNB\n",
        "# Instantiate the classifier (use the parameter var_smoothing=0.0),\n",
        "# fit, and predict the classes\n",
        "NB = GaussianNB()\n",
        "NB.fit(Xtr,Ytr)\n",
        "NB.predict(Xtest)"
      ]
    },
    {
      "cell_type": "code",
      "execution_count": null,
      "metadata": {
        "colab": {
          "base_uri": "https://localhost:8080/"
        },
        "id": "MT710oc-f1bh",
        "outputId": "d880873a-d719-4d10-acbd-e9c7cf614d1e"
      },
      "outputs": [
        {
          "name": "stdout",
          "output_type": "stream",
          "text": [
            "My predictions are the same as the predictions from KNeighborsClassifier\n"
          ]
        }
      ],
      "source": [
        "# Compare your predicted classes with those of the sklearn implementation.\n",
        "# If they are not identical, this may be due to some differences in parameter setting. \n",
        "# They should be almost all the same.\n",
        "check1 = (pre==NB.predict(Xtest)).all()\n",
        "if check1==True:\n",
        "  print(\"My predictions are the same as the predictions from KNeighborsClassifier\")"
      ]
    },
    {
      "cell_type": "markdown",
      "metadata": {
        "id": "pZjv7v1rf1bh"
      },
      "source": [
        "## Part (c) Comparing k-nearest neighbours and Gaussian naive Bayes\n",
        "Now retrain the naive Bayes classifier using the original training set `Xtr`, `Ytr`.\n",
        "Also, retrain the k-nearest neighbours classifier using `Xtr` and `Ytr`. Use the value of $k$ that you decided on using cross-validation.\n",
        "You can use the sklearn implementations of knn and naive Bayes.\n",
        "\n",
        "Compute the accuracy of the naive Bayes classifier over the training set and the held-out test set.\n",
        "\n",
        "Compare with the accuracy of the k-nearest neighbours classifier on each set.\n",
        "\n",
        "Is it clear which classifier is the best on this dataset? why or why not?"
      ]
    },
    {
      "cell_type": "code",
      "execution_count": null,
      "metadata": {
        "colab": {
          "base_uri": "https://localhost:8080/"
        },
        "id": "RmmLBY_nf1bh",
        "outputId": "19bcf916-e5a6-4f7a-9bb1-3448c415767c",
        "scrolled": false
      },
      "outputs": [
        {
          "name": "stdout",
          "output_type": "stream",
          "text": [
            "0.9428571428571428\n",
            "0.9318681318681319\n",
            "0.9298245614035088\n",
            "0.956140350877193\n"
          ]
        }
      ],
      "source": [
        "# Instantiate the knn classifer with your chosen value of k\n",
        "# Fit the Gaussian naive Bayes classifier and the knn classifier on Xtr, Ytr\n",
        "\n",
        "KNN_C = KNeighborsClassifier(n_neighbors=10)  \n",
        "KNN_C.fit(Xtr,Ytr)\n",
        "\n",
        "NB = GaussianNB()\n",
        "NB.fit(Xtr,Ytr)\n",
        "# Make predictions for the training set\n",
        "KNN_Train_Pre = KNN_C.predict(Xtr)\n",
        "NB_Train_pre = NB.predict(Xtr)\n",
        "\n",
        "# Take a look at the accuracy scores\n",
        "print(accuracy_score(Ytr, KNN_Train_Pre)) \n",
        "print(accuracy_score(Ytr, NB_Train_pre)) \n",
        "\n",
        "# Make predictions for the test set\n",
        "KNN_Test_Pre = KNN_C.predict(Xtest)\n",
        "NB_Test_pre = NB.predict(Xtest)\n",
        "\n",
        "# Take a look at the accuracy scores\n",
        "print(accuracy_score(Ytest, KNN_Test_Pre)) \n",
        "print(accuracy_score(Ytest, NB_Test_pre))"
      ]
    },
    {
      "cell_type": "markdown",
      "metadata": {
        "id": "X2kepYdYf1bh"
      },
      "source": [
        "## Part (d) Using cross-validation for statistical validation\n",
        "Earlier we used cross-validation to select the model parameters we would be using. We can also use it another way: to provide statistical information about which model is best. We will set up cross-validation on the whole dataset, with 10 folds.\n",
        "\n",
        " - Compute the accuracy for each model on the test set on each fold.\n",
        " - Calculate the mean accuracy across folds. Which model performs best?\n",
        " - Make a box-plot of the spread of scores of each model. Is there a clear difference between model performance?\n",
        " - Perform a paired t-test on the accuracy scores. What can you conclude about the performance of the two models?\n"
      ]
    },
    {
      "cell_type": "code",
      "execution_count": null,
      "metadata": {
        "id": "32wr-OEJf1bh"
      },
      "outputs": [],
      "source": [
        "# Set up a k-fold cross-validation with 10 folds\n",
        "##TODO##"
      ]
    },
    {
      "cell_type": "code",
      "execution_count": null,
      "metadata": {
        "id": "bgcSrHqdf1bi"
      },
      "outputs": [],
      "source": [
        "# For each fold, fit each model on the training data \n",
        "# and compute accuracy on the test data.\n",
        "##TODO##"
      ]
    },
    {
      "cell_type": "code",
      "execution_count": null,
      "metadata": {
        "id": "QXezGSHBf1bi"
      },
      "outputs": [],
      "source": [
        "# Compute the mean and standard devation of the accuracies for each model.\n",
        "# Does one model perform better?\n",
        "##TODO##"
      ]
    },
    {
      "cell_type": "code",
      "execution_count": null,
      "metadata": {
        "id": "k_RF0KdJf1bi"
      },
      "outputs": [],
      "source": [
        "# Make a boxplot of the accuracy scores. (Use plt.boxplot). \n",
        "# Is there a clear difference between the models?\n",
        "##TODO##"
      ]
    },
    {
      "cell_type": "code",
      "execution_count": null,
      "metadata": {
        "id": "dCyc0RdJf1bi"
      },
      "outputs": [],
      "source": [
        "# Perform a paired t-test (you can use the function scipy.stats.ttest_rel). \n",
        "# What do you conclude about the performance of the two models?\n",
        "##TODO##"
      ]
    },
    {
      "cell_type": "markdown",
      "metadata": {
        "id": "yQAsWLSJf1bi"
      },
      "source": [
        "## Linear Regression\n",
        "In linear regression we make the assumption that the data $(x_i, y_i)$ can be modelled by a function of the form\n",
        "$$ \\hat{y_i} = f(\\vec{x}_i)= \\sum_j a_j x_{ij}  + b_i$$\n",
        "\n",
        "Recall that we can express this in a matrix format by:\n",
        "$$ \\hat{\\vec{y}} = f(X)= X\\Theta$$\n",
        "\n",
        "where \n",
        "$$ X=\\begin{pmatrix}\n",
        "x_{1,1} & x_{1,2} & \\ldots & x_{1,n} &1 \\\\\n",
        "\\vdots & \\vdots & \\ldots & \\vdots & \\vdots \\\\\n",
        "x_{N,1} & x_{N,2} & \\ldots & x_{N,n} & 1\n",
        "\\end{pmatrix}, \\quad \\vec{y}=\\begin{pmatrix} y_1 \\\\ \\vdots \\\\y_N \\end{pmatrix}, \\quad \\Theta=\\begin{pmatrix} a_1 \\\\ \\vdots \\\\a_n\\\\b \\end{pmatrix}$$\n",
        "\n",
        "We saw in lectures that the optimal value of $\\Theta$ is given by setting\n",
        "$$ \\Theta = (X^T X)^{-1} X^T \\vec{y}$$\n",
        "\n",
        "The quantity $(X^T X)^{-1} X^T$ is called the psuedoinverse of X, and can be computed using the function `np.linalg.pinv`.\n",
        "\n",
        "We will (a) perform a linear regression on the diabetes dataset. You can load this dataset using the function `load_diabetes` from `sklearn.datasets`. (b) compute the mean squared error and the R^2, and (c) compare your results with the built in function in sklearn (`sklearn.linear_model.LinearRegresion()`). You should get the same results."
      ]
    },
    {
      "cell_type": "code",
      "execution_count": null,
      "metadata": {
        "id": "afGVHpZDf1bi"
      },
      "outputs": [],
      "source": [
        "# import statments here\n",
        "from sklearn import datasets, linear_model\n",
        "from sklearn.model_selection import train_test_split\n",
        "from sklearn.metrics import mean_squared_error, r2_score"
      ]
    },
    {
      "cell_type": "markdown",
      "metadata": {
        "id": "wLPeLHHQf1bi"
      },
      "source": [
        "## Part (a) Implementing linear regression"
      ]
    },
    {
      "cell_type": "code",
      "execution_count": null,
      "metadata": {
        "id": "Pfw-axgNf1bi"
      },
      "outputs": [],
      "source": [
        "# Load the diabetes dataset \n",
        "##TODO##\n",
        "\n",
        "# Split the dataset into training and test, using test_size=0.2\n",
        "##TODO##"
      ]
    },
    {
      "cell_type": "code",
      "execution_count": null,
      "metadata": {
        "id": "Fm7nVa9Ff1bj"
      },
      "outputs": [],
      "source": [
        "# Add a column of ones to Xtrain and Xtest for the intercept term\n",
        "##TODO##"
      ]
    },
    {
      "cell_type": "code",
      "execution_count": null,
      "metadata": {
        "id": "Smd9iCeQf1bj"
      },
      "outputs": [],
      "source": [
        "# Calculate the value of the coefficients theta. You can use the function np.linalg.pinv\n",
        "##TODO##"
      ]
    },
    {
      "cell_type": "markdown",
      "metadata": {
        "id": "GRkayNz4f1bj"
      },
      "source": [
        "## Part (b) Computing performance metrics"
      ]
    },
    {
      "cell_type": "code",
      "execution_count": null,
      "metadata": {
        "id": "2wbGyk9Ef1bj"
      },
      "outputs": [],
      "source": [
        "# Make a prediction on the test set by applying the coefficients theta to the test set\n",
        "##TODO##"
      ]
    },
    {
      "cell_type": "code",
      "execution_count": null,
      "metadata": {
        "id": "7v6N_PrUf1bj"
      },
      "outputs": [],
      "source": [
        "# Calculate the mean squared error and the R^2. \n",
        "# You can use the built in functions from sklearn\n",
        "##TODO##"
      ]
    },
    {
      "cell_type": "markdown",
      "metadata": {
        "id": "tKwfB_Faf1bj"
      },
      "source": [
        "## Part (c) Checking results\n",
        "Compare your results with the built in function `sklearn.linear_model.LinearRegression()`"
      ]
    },
    {
      "cell_type": "code",
      "execution_count": null,
      "metadata": {
        "id": "rM15Be27f1bj"
      },
      "outputs": [],
      "source": [
        "# Instantiate the linear regression\n",
        "##TODO##\n"
      ]
    },
    {
      "cell_type": "code",
      "execution_count": null,
      "metadata": {
        "id": "022BtCU9f1bj"
      },
      "outputs": [],
      "source": [
        "# Fit the model and make a prediction on the test set. Compare with your implementation\n",
        "##TODO##\n"
      ]
    },
    {
      "cell_type": "markdown",
      "metadata": {
        "id": "63D0KUrRf1bj"
      },
      "source": [
        "Visualise the perfomance of the regression by plotting your predicted values vs target values on a scatter plot, and drawing a line y=x. If all predictions were perfect, the predicted values would lie on the line."
      ]
    },
    {
      "cell_type": "code",
      "execution_count": null,
      "metadata": {
        "id": "HtyATt32f1bj"
      },
      "outputs": [],
      "source": [
        "# Plot predicted values vs target values on a scatter plot, and drawing a line y=x\n",
        "## TODO##\n"
      ]
    },
    {
      "cell_type": "markdown",
      "metadata": {
        "id": "F4YqeCSGf1bj"
      },
      "source": [
        "# Extra question: Polynomial regression\n",
        "The term 'linear' in linear regression refers only to the coefficients $\\theta$. We can in fact compute polynomial terms in the data and perform linear regression over this extended dataset to get a better fit to the data.\n",
        "\n",
        "To compute polynomial terms in the data automatically, you can use the class `sklearn.preprocessing.PolynomialFeatures`. To find out how to use it, look at the guidance (you can type `help(PolynomialFeatures)` once you have imported it).\n",
        "\n",
        "The following small dataset (in the cell below) gives a relationship between temperature and yield for an experiment. Use cross-validation to select the degree of the polynomial that best fits this data.\n",
        "\n",
        "Plot the mean squared error against degree on the training set and on the validation set. Which degree of polynomial best fits this data?"
      ]
    },
    {
      "cell_type": "code",
      "execution_count": null,
      "metadata": {
        "id": "Z-aKN_BXf1bj"
      },
      "outputs": [],
      "source": [
        "# Data\n",
        "X = np.array([50,50,50,70,70,70,80,80,80,90,90,90,100,100,100]).reshape(-1, 1)\n",
        "y = np.array([3.3,2.8,2.9,2.3,2.6,2.1,2.5,2.9,2.4,3,3.1,2.8,3.3,3.5,3]).reshape(-1, 1)"
      ]
    },
    {
      "cell_type": "code",
      "execution_count": null,
      "metadata": {
        "id": "L8kkw4_Pf1bj"
      },
      "outputs": [],
      "source": []
    },
    {
      "cell_type": "code",
      "execution_count": null,
      "metadata": {
        "id": "AA9kwkgZf1bj"
      },
      "outputs": [],
      "source": []
    },
    {
      "cell_type": "code",
      "execution_count": null,
      "metadata": {
        "id": "5G73mor5f1bk"
      },
      "outputs": [],
      "source": []
    }
  ],
  "metadata": {
    "colab": {
      "collapsed_sections": [],
      "name": "week14.ipynb",
      "provenance": []
    },
    "kernelspec": {
      "display_name": "Python 3",
      "language": "python",
      "name": "python3"
    },
    "language_info": {
      "codemirror_mode": {
        "name": "ipython",
        "version": 3
      },
      "file_extension": ".py",
      "mimetype": "text/x-python",
      "name": "python",
      "nbconvert_exporter": "python",
      "pygments_lexer": "ipython3",
      "version": "3.9.1"
    }
  },
  "nbformat": 4,
  "nbformat_minor": 0
}
